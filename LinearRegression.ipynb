{
  "nbformat": 4,
  "nbformat_minor": 0,
  "metadata": {
    "colab": {
      "name": "LinearRegression.ipynb",
      "provenance": [],
      "authorship_tag": "ABX9TyNeggvuWcl8NrBzB4JM02vi",
      "include_colab_link": true
    },
    "kernelspec": {
      "name": "python3",
      "display_name": "Python 3"
    }
  },
  "cells": [
    {
      "cell_type": "markdown",
      "metadata": {
        "id": "view-in-github",
        "colab_type": "text"
      },
      "source": [
        "<a href=\"https://colab.research.google.com/github/jackgrebenc/LinearRegression/blob/main/LinearRegression.ipynb\" target=\"_parent\"><img src=\"https://colab.research.google.com/assets/colab-badge.svg\" alt=\"Open In Colab\"/></a>"
      ]
    },
    {
      "cell_type": "markdown",
      "metadata": {
        "id": "SnOUjmMMHkt4"
      },
      "source": [
        "##Titanic Survival Prediction\n",
        "In this project, a multiple linear regression will be used to predict the survival rate based on a dataset about each Titanic passenger. This is a common example problem and has been used as a challenge problem on Kaggle (https://www.kaggle.com/c/titanic/data).\n",
        "\n",
        "This project differs from others in that it will only use numpy and pandas and not will nt utilize Tensorflow or any other machine learning library that handles the details of this. The linear regression and errors will be computed directly without external libraries.\n",
        "\n",
        "To summarize the results, this method gave 77% accuracy on the evaluation set."
      ]
    },
    {
      "cell_type": "code",
      "metadata": {
        "id": "v0I51qoOrWvU"
      },
      "source": [
        "import numpy as np\n",
        "import pandas as pd\n",
        "import matplotlib.pyplot as plt\n"
      ],
      "execution_count": 1,
      "outputs": []
    },
    {
      "cell_type": "code",
      "metadata": {
        "id": "44LEPJxErcqe"
      },
      "source": [
        "#1) Load dataset.\n",
        "dftrain = pd.read_csv('https://storage.googleapis.com/tf-datasets/titanic/train.csv') # training data\n",
        "dfeval = pd.read_csv('https://storage.googleapis.com/tf-datasets/titanic/eval.csv') # testing data\n",
        "\n",
        "#2) Prepare data \n",
        "#2.1 Turn text features into numeric features where possible using a mapping\n",
        "sexMap = {\"male\":0, \"female\":1}\n",
        "classMap = {\"First\":1, \"Second\":2, \"Third\":3}\n",
        "aloneMap = {\"n\":0, \"y\":1}\n",
        "\n",
        "dftrain.sex = [sexMap.get(item, item) for item in dftrain.sex]\n",
        "dftrain[\"class\"] = [classMap.get(item, item) for item in dftrain[\"class\"]]\n",
        "dftrain[\"alone\"] = [aloneMap.get(item, item) for item in dftrain[\"alone\"]]\n",
        "dfeval.sex = [sexMap.get(item, item) for item in dfeval.sex]\n",
        "dfeval[\"class\"] = [classMap.get(item, item) for item in dfeval[\"class\"]]\n",
        "dfeval[\"alone\"] = [aloneMap.get(item, item) for item in dfeval[\"alone\"]]\n",
        "\n",
        "#2.2 Take only the relevant features to be used in Linear Regression\n",
        "dftrain = dftrain[[\"survived\",\"sex\", \"age\", \"n_siblings_spouses\", \"parch\", \"fare\", \"class\", \"alone\"]].copy()\n",
        "dfeval = dfeval[[\"survived\",\"sex\", \"age\", \"n_siblings_spouses\", \"parch\", \"fare\", \"class\", \"alone\"]].copy()\n",
        "dftrain.dropna()\n",
        "dfeval.dropna()\n",
        "#Note -> dftrain and dfeval.isna().sum() is zero for all columns; this is more for safety\n",
        "#Now that we have our data boiled down, lets pop off the remaining response variables\n",
        "y_train = dftrain.pop('survived')\n",
        "y_eval = dfeval.pop('survived')"
      ],
      "execution_count": 2,
      "outputs": []
    },
    {
      "cell_type": "code",
      "metadata": {
        "id": "A83TNSFq46ZK",
        "outputId": "dde70876-3891-4afc-f634-5b7e8e6af8b2",
        "colab": {
          "base_uri": "https://localhost:8080/",
          "height": 34
        }
      },
      "source": [
        "#3) Define matrices that can be used to create the estimated coefficients of regression\n",
        "#3.1 Add an intercept term to the data\n",
        "intercept_train = np.ones(dftrain.shape[0],dtype=\"int32\")\n",
        "dftrain[\"intercept\"] = intercept_train\n",
        "intercept_eval = np.ones(dfeval.shape[0], dtype=\"int32\")\n",
        "dfeval[\"intercept\"] = intercept_eval\n",
        "\n",
        "#3.2 Find estimates for the coefficients of the regression\n",
        "X = dftrain.values\n",
        "Xt = np.transpose(dftrain.values)\n",
        "# Coeffs = (X*Xt)^-1*Xt*y\n",
        "coeffs = np.matmul(np.matmul(np.linalg.inv(np.matmul(Xt, X)), Xt), y_train)\n",
        "\n",
        "#3.3 Predict probabilities of survival on evaluation data\n",
        "y_pred = np.dot(dfeval,coeffs)\n",
        "y_pred_rounded = y_pred\n",
        "#if value >0.5 round to survived; if not round down to 0 (dead)\n",
        "for i in range(0, len(y_pred_rounded)):\n",
        "  if y_pred_rounded[i] < 0.5:\n",
        "    y_pred_rounded[i] = 0\n",
        "  else:\n",
        "    y_pred_rounded[i] = 1\n",
        "  \n",
        "#residual square error -> In this case if prediction is incorrect, it will give a 1.\n",
        "#This will make it easy to calculate the accuracy; the sum of the r vector is the number\n",
        "# of incorrect predictions\n",
        "r = (y_pred_rounded - y_eval)**2\n",
        "\n",
        "#3.4 output the accuracy of the model: #success/#total datapoints\n",
        "acc = (r.shape[0] - sum(r))/r.shape[0]\n",
        "print(round(acc, 4)) #77% accurate model"
      ],
      "execution_count": 3,
      "outputs": [
        {
          "output_type": "stream",
          "text": [
            "0.7689\n"
          ],
          "name": "stdout"
        }
      ]
    },
    {
      "cell_type": "code",
      "metadata": {
        "id": "ufDVGrgaFR_c",
        "outputId": "f0399a8d-23ff-476e-c5fa-e3ac396205a6",
        "colab": {
          "base_uri": "https://localhost:8080/",
          "height": 312
        }
      },
      "source": [
        "#4) - See how different thresholds perform\n",
        "#It's expected that 0.5 is optimal, which was chosen above\n",
        "#Let's see what happens if the threshold value of 0.5 is changed\n",
        "accPoint = np.zeros(9)\n",
        "x_axis = np.linspace(0,1,9,endpoint=False)\n",
        "for i in range(1,10):\n",
        "  a = i/10\n",
        "  y_pred_rounded = np.dot(dfeval,coeffs)\n",
        "  y_p = y_pred_rounded > a\n",
        "  y_p = y_p.astype(int)\n",
        "  res = (y_p - y_eval)**2\n",
        "  accPoint[i-1] = (res.shape[0] - sum(res))/res.shape[0]\n",
        "#These results can be ploted\n",
        "plt.plot(x_axis, accPoint)\n",
        "plt.xlabel(\"Threshold\")\n",
        "plt.ylabel(\"Accuracy of Model\")\n",
        "plt.title(\"Selection of Prediction Threshold Effects on Accuracy\")"
      ],
      "execution_count": 4,
      "outputs": [
        {
          "output_type": "execute_result",
          "data": {
            "text/plain": [
              "Text(0.5, 1.0, 'Selection of Prediction Threshold Effects on Accuracy')"
            ]
          },
          "metadata": {
            "tags": []
          },
          "execution_count": 4
        },
        {
          "output_type": "display_data",
          "data": {
            "image/png": "[encoded data removed]",
            "text/plain": [
              "<Figure size 432x288 with 1 Axes>"
            ]
          },
          "metadata": {
            "tags": [],
            "needs_background": "light"
          }
        }
      ]
    }
  ]
}